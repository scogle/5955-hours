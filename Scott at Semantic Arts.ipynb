{
 "cells": [
  {
   "cell_type": "markdown",
   "metadata": {},
   "source": [
    "# Scott, By the Numbers\n",
    "\n",
    "As told by **1,616** timecard entries."
   ]
  },
  {
   "cell_type": "code",
   "execution_count": 88,
   "metadata": {
    "collapsed": false
   },
   "outputs": [],
   "source": [
    "import json\n",
    "import operator\n",
    "import locale\n",
    "from tabulate import tabulate\n",
    "locale.setlocale(locale.LC_ALL, 'en_US')\n",
    "\n",
    "def pf(num):\n",
    "    return \"%s\" % locale.format(\"%.2f\", num, grouping=True)"
   ]
  },
  {
   "cell_type": "code",
   "execution_count": 114,
   "metadata": {
    "collapsed": false
   },
   "outputs": [
    {
     "name": "stdout",
     "output_type": "stream",
     "text": [
      "1616\n"
     ]
    }
   ],
   "source": [
    "with open('query.json', 'r') as jfile:\n",
    "    data = json.load(jfile)\n",
    "    data = data['results']['bindings']\n",
    "    \n",
    "    print(len(data))"
   ]
  },
  {
   "cell_type": "markdown",
   "metadata": {},
   "source": [
    "## ⏲ 5,955 Hours"
   ]
  },
  {
   "cell_type": "code",
   "execution_count": 115,
   "metadata": {
    "collapsed": false
   },
   "outputs": [
    {
     "name": "stdout",
     "output_type": "stream",
     "text": [
      "Total hours\n",
      "5,955.30\n",
      "\n",
      "Work days\n",
      "744.41\n"
     ]
    }
   ],
   "source": [
    "total_hours = sum([float(entry['hours']['value']) for entry in data])\n",
    "\n",
    "print('Total hours')\n",
    "print(pf(total_hours))\n",
    "\n",
    "print('\\nWork days')\n",
    "print(pf(total_hours/8))"
   ]
  },
  {
   "cell_type": "markdown",
   "metadata": {},
   "source": [
    "## 💵 $171,351.75\n",
    "\n",
    "(Total earned revenue)"
   ]
  },
  {
   "cell_type": "code",
   "execution_count": 91,
   "metadata": {
    "collapsed": false
   },
   "outputs": [
    {
     "name": "stdout",
     "output_type": "stream",
     "text": [
      "$171,351.75\n"
     ]
    }
   ],
   "source": [
    "# How much revenue did I earn?\n",
    "total_earned_rev = sum([float(entry['earnedRev']['value']) for entry in data])\n",
    "\n",
    "print('$%s' % pf(total_earned_rev))"
   ]
  },
  {
   "cell_type": "markdown",
   "metadata": {},
   "source": [
    "## What the hell have I been working on for all those hours?\n",
    "\n",
    "¯\\_(ツ)_/¯"
   ]
  },
  {
   "cell_type": "code",
   "execution_count": 92,
   "metadata": {
    "collapsed": false,
    "scrolled": true
   },
   "outputs": [
    {
     "name": "stdout",
     "output_type": "stream",
     "text": [
      "Project                                                    Hours\n",
      "---------------------------------------------------------  --------\n",
      "Ibeam                                                      1,526.55\n",
      "Internal Systems                                           689.90\n",
      "Website                                                    542.15\n",
      "Research                                                   445.55\n",
      "OPS to SPO Conversion                                      369.25\n",
      "Schneider Configuration Support                            312.50\n",
      "Schneider Ontology and Rules for B&B (Buses and Breakers)  282.65\n",
      "Governance                                                 261.05\n",
      "May through July 2016                                      250.10\n",
      "Vac-PTO-Holiday                                            204.00\n",
      "Personal Productivity                                      176.10\n",
      "Clipsal Migration                                          175.95\n",
      "Carlei                                                     129.10\n",
      "Travel to Client                                           96.00\n",
      "Vacation Paid                                              76.00\n",
      "HR                                                         68.45\n",
      "McGrawHill-Platts - Phase 2                                52.00\n",
      "Marketing                                                  38.25\n",
      "Being Trained                                              35.95\n",
      "Physician Ontology                                         33.50\n",
      "DBBO FC 2012                                               30.50\n",
      "Asthma POC                                                 27.30\n",
      "SLA Ontology                                               24.25\n",
      "SemTech                                                    21.00\n",
      "DBBO DC Winter 2016                                        18.00\n",
      "DBBO Development                                           17.50\n",
      "Line of Business                                           16.00\n",
      "Travel Non Client                                          11.00\n",
      "System Admin                                               9.00\n",
      "gist                                                       4.00\n",
      "Ontology Advisory                                          3.75\n",
      "Overhead                                                   3.00\n",
      "Move                                                       2.00\n",
      "DBBO-Livier-FC-2015                                        2.00\n",
      "Sales                                                      1.00\n"
     ]
    }
   ],
   "source": [
    "# Which tasks did I work on the most?\n",
    "tasks = list(set([entry['projectN']['value'] for entry in data]))\n",
    "hours_by_task = [(task, sum([float(e['hours']['value']) for e in data if e['projectN']['value'] == task]) ) for task in tasks]\n",
    "\n",
    "sorted_groupings = sorted(hours_by_task, key=lambda x: 1/x[1])\n",
    "sorted_groupings = [(p, pf(h)) for (p,h) in sorted_groupings]\n",
    "\n",
    "print(tabulate(sorted_groupings, headers=['Project', 'Hours']))"
   ]
  },
  {
   "cell_type": "markdown",
   "metadata": {},
   "source": [
    "By far my main project has been Ibeam, with **1,526.55** logged hours."
   ]
  },
  {
   "cell_type": "code",
   "execution_count": 111,
   "metadata": {
    "collapsed": false
   },
   "outputs": [
    {
     "name": "stdout",
     "output_type": "stream",
     "text": [
      "4,131.46 hours to build Ibeam and Nailgun\n"
     ]
    }
   ],
   "source": [
    "# How many hours were spent on Ibeam total?\n",
    "print(pf(float(\"4.13146E3\")), 'hours to build Ibeam and Nailgun')"
   ]
  },
  {
   "cell_type": "code",
   "execution_count": 113,
   "metadata": {
    "collapsed": false
   },
   "outputs": [
    {
     "name": "stdout",
     "output_type": "stream",
     "text": [
      "Scott accounted for 36.95% of Ibeam and Nailgun Development\n"
     ]
    }
   ],
   "source": [
    "# Scott's share of ibeam\n",
    "pct = float(1526.55/4131.46) * 100\n",
    "print('Scott accounted for %.2f%% of Ibeam and Nailgun Development' % pct)"
   ]
  },
  {
   "cell_type": "markdown",
   "metadata": {},
   "source": [
    "## ...By Sponsor"
   ]
  },
  {
   "cell_type": "code",
   "execution_count": 112,
   "metadata": {
    "collapsed": false,
    "scrolled": true
   },
   "outputs": [
    {
     "name": "stdout",
     "output_type": "stream",
     "text": [
      "Client              Hours\n",
      "------------------  --------\n",
      "Semantic Arts       4,304.25\n",
      "Mphasis             1,140.35\n",
      "Morgan Stanley      250.10\n",
      "Carlei Wine         129.10\n",
      "McGrawHill-Platts   52.00\n",
      "Sentara             33.50\n",
      "Sagence             24.25\n",
      "Procter and Gamble  16.00\n",
      "Broadridge          3.75\n",
      "DBBO                2.00\n"
     ]
    }
   ],
   "source": [
    "# Which clients?\n",
    "clients = list(set([entry['sponsor']['value'] for entry in data]))\n",
    "hours_by_client = [(client, sum([float(e['hours']['value']) for e in data if e['sponsor']['value'] == client]) ) for client in clients]\n",
    "\n",
    "sorted_groupings = sorted(hours_by_client, key=lambda x: 1/x[1])\n",
    "sorted_groupings = [(p, pf(h)) for (p,h) in sorted_groupings]\n",
    "\n",
    "print(tabulate(sorted_groupings, headers=['Client', 'Hours']))"
   ]
  },
  {
   "cell_type": "markdown",
   "metadata": {},
   "source": [
    "* * *\n",
    "# 8,262\n",
    "\n",
    "(The number of .py files in in my 'Semantic Arts' folder, which probably includes some libraries)\n",
    "* * *"
   ]
  },
  {
   "cell_type": "markdown",
   "metadata": {},
   "source": [
    "### First timecharge:\n",
    "    \n",
    "# \"filled out paperwork, dave walked me through sparql\"\n",
    "\n",
    "May 16th, 2012, 3 PM\n",
    "\n",
    "### Last timecharge:\n",
    "\n",
    "# \"wrapping up documentation, cleaning out desk\"\n",
    "\n",
    "August 26th, 2016, 3:30 PM"
   ]
  },
  {
   "cell_type": "markdown",
   "metadata": {},
   "source": [
    "***\n",
    "\n",
    "# 🍷 20\n",
    "\n",
    "(My guess at the approximate number of nights I've spent drinking wine with you guys on the road)"
   ]
  },
  {
   "cell_type": "code",
   "execution_count": 118,
   "metadata": {
    "collapsed": false
   },
   "outputs": [
    {
     "name": "stdout",
     "output_type": "stream",
     "text": [
      "72\n"
     ]
    }
   ],
   "source": [
    "# We really didn't start doing the swift half thing until Andi came around,\n",
    "# so I'm going to approximate 2 per month for 3 years\n",
    "\n",
    "print(3 * 12 *2)"
   ]
  },
  {
   "cell_type": "markdown",
   "metadata": {},
   "source": [
    "# 🍻 72\n",
    "\n",
    "(The approximate number of swifts halves I've taken part in)"
   ]
  },
  {
   "cell_type": "code",
   "execution_count": 117,
   "metadata": {
    "collapsed": false
   },
   "outputs": [
    {
     "name": "stdout",
     "output_type": "stream",
     "text": [
      "2977.6499999999996\n"
     ]
    }
   ],
   "source": [
    "# coffee, assuming 4 cups per 8 hour day (rounded)\n",
    "\n",
    "coffee = total_hours/8 * 4\n",
    "print(coffee)"
   ]
  },
  {
   "cell_type": "markdown",
   "metadata": {},
   "source": [
    "# ☕ 3,000\n",
    "\n",
    "(The approximate cups of coffee I've drank at Semantic Arts)"
   ]
  },
  {
   "cell_type": "markdown",
   "metadata": {},
   "source": [
    "***\n",
    "\n",
    "# ✉️\n",
    "\n",
    "## 40,090\n",
    "\n",
    "The total number of emails in my inbox\n",
    "\n",
    "## 10,474\n",
    "\n",
    "From other Semantic Artists"
   ]
  }
 ],
 "metadata": {
  "kernelspec": {
   "display_name": "Python 3",
   "language": "python",
   "name": "python3"
  },
  "language_info": {
   "codemirror_mode": {
    "name": "ipython",
    "version": 3
   },
   "file_extension": ".py",
   "mimetype": "text/x-python",
   "name": "python",
   "nbconvert_exporter": "python",
   "pygments_lexer": "ipython3",
   "version": "3.5.1"
  }
 },
 "nbformat": 4,
 "nbformat_minor": 0
}
